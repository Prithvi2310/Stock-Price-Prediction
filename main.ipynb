{
 "cells": [
  {
   "cell_type": "code",
   "execution_count": 1,
   "metadata": {},
   "outputs": [],
   "source": [
    "import numpy as np \n",
    "import pandas as pd\n",
    "import matplotlib.pyplot as plt \n",
    "import tensorflow as tf"
   ]
  },
  {
   "cell_type": "code",
   "execution_count": 2,
   "metadata": {},
   "outputs": [],
   "source": [
    "apple_data = pd.read_csv(\"Data/AAPL.csv\")"
   ]
  },
  {
   "cell_type": "code",
   "execution_count": 3,
   "metadata": {},
   "outputs": [
    {
     "data": {
      "text/html": [
       "<div>\n",
       "<style scoped>\n",
       "    .dataframe tbody tr th:only-of-type {\n",
       "        vertical-align: middle;\n",
       "    }\n",
       "\n",
       "    .dataframe tbody tr th {\n",
       "        vertical-align: top;\n",
       "    }\n",
       "\n",
       "    .dataframe thead th {\n",
       "        text-align: right;\n",
       "    }\n",
       "</style>\n",
       "<table border=\"1\" class=\"dataframe\">\n",
       "  <thead>\n",
       "    <tr style=\"text-align: right;\">\n",
       "      <th></th>\n",
       "      <th>Date</th>\n",
       "      <th>Open</th>\n",
       "      <th>High</th>\n",
       "      <th>Low</th>\n",
       "      <th>Close</th>\n",
       "      <th>Adj Close</th>\n",
       "      <th>Volume</th>\n",
       "    </tr>\n",
       "  </thead>\n",
       "  <tbody>\n",
       "    <tr>\n",
       "      <th>0</th>\n",
       "      <td>1980-12-12</td>\n",
       "      <td>0.128348</td>\n",
       "      <td>0.128906</td>\n",
       "      <td>0.128348</td>\n",
       "      <td>0.128348</td>\n",
       "      <td>0.100178</td>\n",
       "      <td>469033600</td>\n",
       "    </tr>\n",
       "    <tr>\n",
       "      <th>1</th>\n",
       "      <td>1980-12-15</td>\n",
       "      <td>0.122210</td>\n",
       "      <td>0.122210</td>\n",
       "      <td>0.121652</td>\n",
       "      <td>0.121652</td>\n",
       "      <td>0.094952</td>\n",
       "      <td>175884800</td>\n",
       "    </tr>\n",
       "    <tr>\n",
       "      <th>2</th>\n",
       "      <td>1980-12-16</td>\n",
       "      <td>0.113281</td>\n",
       "      <td>0.113281</td>\n",
       "      <td>0.112723</td>\n",
       "      <td>0.112723</td>\n",
       "      <td>0.087983</td>\n",
       "      <td>105728000</td>\n",
       "    </tr>\n",
       "    <tr>\n",
       "      <th>3</th>\n",
       "      <td>1980-12-17</td>\n",
       "      <td>0.115513</td>\n",
       "      <td>0.116071</td>\n",
       "      <td>0.115513</td>\n",
       "      <td>0.115513</td>\n",
       "      <td>0.090160</td>\n",
       "      <td>86441600</td>\n",
       "    </tr>\n",
       "    <tr>\n",
       "      <th>4</th>\n",
       "      <td>1980-12-18</td>\n",
       "      <td>0.118862</td>\n",
       "      <td>0.119420</td>\n",
       "      <td>0.118862</td>\n",
       "      <td>0.118862</td>\n",
       "      <td>0.092774</td>\n",
       "      <td>73449600</td>\n",
       "    </tr>\n",
       "  </tbody>\n",
       "</table>\n",
       "</div>"
      ],
      "text/plain": [
       "         Date      Open      High       Low     Close  Adj Close     Volume\n",
       "0  1980-12-12  0.128348  0.128906  0.128348  0.128348   0.100178  469033600\n",
       "1  1980-12-15  0.122210  0.122210  0.121652  0.121652   0.094952  175884800\n",
       "2  1980-12-16  0.113281  0.113281  0.112723  0.112723   0.087983  105728000\n",
       "3  1980-12-17  0.115513  0.116071  0.115513  0.115513   0.090160   86441600\n",
       "4  1980-12-18  0.118862  0.119420  0.118862  0.118862   0.092774   73449600"
      ]
     },
     "execution_count": 3,
     "metadata": {},
     "output_type": "execute_result"
    }
   ],
   "source": [
    "apple_data.head()"
   ]
  },
  {
   "cell_type": "code",
   "execution_count": 4,
   "metadata": {},
   "outputs": [
    {
     "data": {
      "text/html": [
       "<div>\n",
       "<style scoped>\n",
       "    .dataframe tbody tr th:only-of-type {\n",
       "        vertical-align: middle;\n",
       "    }\n",
       "\n",
       "    .dataframe tbody tr th {\n",
       "        vertical-align: top;\n",
       "    }\n",
       "\n",
       "    .dataframe thead th {\n",
       "        text-align: right;\n",
       "    }\n",
       "</style>\n",
       "<table border=\"1\" class=\"dataframe\">\n",
       "  <thead>\n",
       "    <tr style=\"text-align: right;\">\n",
       "      <th></th>\n",
       "      <th>Date</th>\n",
       "      <th>Open</th>\n",
       "      <th>High</th>\n",
       "      <th>Low</th>\n",
       "      <th>Close</th>\n",
       "      <th>Adj Close</th>\n",
       "      <th>Volume</th>\n",
       "    </tr>\n",
       "  </thead>\n",
       "  <tbody>\n",
       "    <tr>\n",
       "      <th>10463</th>\n",
       "      <td>2022-06-13</td>\n",
       "      <td>132.869995</td>\n",
       "      <td>135.199997</td>\n",
       "      <td>131.440002</td>\n",
       "      <td>131.880005</td>\n",
       "      <td>131.880005</td>\n",
       "      <td>122207100</td>\n",
       "    </tr>\n",
       "    <tr>\n",
       "      <th>10464</th>\n",
       "      <td>2022-06-14</td>\n",
       "      <td>133.130005</td>\n",
       "      <td>133.889999</td>\n",
       "      <td>131.479996</td>\n",
       "      <td>132.759995</td>\n",
       "      <td>132.759995</td>\n",
       "      <td>84784300</td>\n",
       "    </tr>\n",
       "    <tr>\n",
       "      <th>10465</th>\n",
       "      <td>2022-06-15</td>\n",
       "      <td>134.289993</td>\n",
       "      <td>137.339996</td>\n",
       "      <td>132.160004</td>\n",
       "      <td>135.429993</td>\n",
       "      <td>135.429993</td>\n",
       "      <td>91533000</td>\n",
       "    </tr>\n",
       "    <tr>\n",
       "      <th>10466</th>\n",
       "      <td>2022-06-16</td>\n",
       "      <td>132.080002</td>\n",
       "      <td>132.389999</td>\n",
       "      <td>129.039993</td>\n",
       "      <td>130.059998</td>\n",
       "      <td>130.059998</td>\n",
       "      <td>108123900</td>\n",
       "    </tr>\n",
       "    <tr>\n",
       "      <th>10467</th>\n",
       "      <td>2022-06-17</td>\n",
       "      <td>130.070007</td>\n",
       "      <td>133.080002</td>\n",
       "      <td>129.809998</td>\n",
       "      <td>131.559998</td>\n",
       "      <td>131.559998</td>\n",
       "      <td>134118500</td>\n",
       "    </tr>\n",
       "  </tbody>\n",
       "</table>\n",
       "</div>"
      ],
      "text/plain": [
       "             Date        Open        High         Low       Close   Adj Close  \\\n",
       "10463  2022-06-13  132.869995  135.199997  131.440002  131.880005  131.880005   \n",
       "10464  2022-06-14  133.130005  133.889999  131.479996  132.759995  132.759995   \n",
       "10465  2022-06-15  134.289993  137.339996  132.160004  135.429993  135.429993   \n",
       "10466  2022-06-16  132.080002  132.389999  129.039993  130.059998  130.059998   \n",
       "10467  2022-06-17  130.070007  133.080002  129.809998  131.559998  131.559998   \n",
       "\n",
       "          Volume  \n",
       "10463  122207100  \n",
       "10464   84784300  \n",
       "10465   91533000  \n",
       "10466  108123900  \n",
       "10467  134118500  "
      ]
     },
     "execution_count": 4,
     "metadata": {},
     "output_type": "execute_result"
    }
   ],
   "source": [
    "apple_data.tail()"
   ]
  },
  {
   "cell_type": "code",
   "execution_count": 5,
   "metadata": {},
   "outputs": [
    {
     "data": {
      "text/plain": [
       "(10468, 7)"
      ]
     },
     "execution_count": 5,
     "metadata": {},
     "output_type": "execute_result"
    }
   ],
   "source": [
    "apple_data.shape"
   ]
  },
  {
   "cell_type": "code",
   "execution_count": 51,
   "metadata": {},
   "outputs": [],
   "source": [
    "#Forgot to make training and testing dataset XDDD\n",
    "train = apple_data[:8375]\n",
    "test = apple_data[8375:10468]"
   ]
  },
  {
   "cell_type": "code",
   "execution_count": 7,
   "metadata": {},
   "outputs": [
    {
     "name": "stdout",
     "output_type": "stream",
     "text": [
      "(8375, 7)\n",
      "(2093, 7)\n"
     ]
    }
   ],
   "source": [
    "print(train.shape)\n",
    "print(test.shape)"
   ]
  },
  {
   "cell_type": "code",
   "execution_count": 8,
   "metadata": {},
   "outputs": [],
   "source": [
    "#Incase anyone wants to have data separated beforehand\n",
    "train.to_csv('Data/train.csv')\n",
    "test.to_csv('Data/test.csv')"
   ]
  },
  {
   "cell_type": "code",
   "execution_count": 9,
   "metadata": {},
   "outputs": [
    {
     "data": {
      "text/plain": [
       "Date         False\n",
       "Open         False\n",
       "High         False\n",
       "Low          False\n",
       "Close        False\n",
       "Adj Close    False\n",
       "Volume       False\n",
       "dtype: bool"
      ]
     },
     "execution_count": 9,
     "metadata": {},
     "output_type": "execute_result"
    }
   ],
   "source": [
    "train.all().isna()"
   ]
  },
  {
   "cell_type": "code",
   "execution_count": 10,
   "metadata": {},
   "outputs": [
    {
     "data": {
      "text/html": [
       "<div>\n",
       "<style scoped>\n",
       "    .dataframe tbody tr th:only-of-type {\n",
       "        vertical-align: middle;\n",
       "    }\n",
       "\n",
       "    .dataframe tbody tr th {\n",
       "        vertical-align: top;\n",
       "    }\n",
       "\n",
       "    .dataframe thead th {\n",
       "        text-align: right;\n",
       "    }\n",
       "</style>\n",
       "<table border=\"1\" class=\"dataframe\">\n",
       "  <thead>\n",
       "    <tr style=\"text-align: right;\">\n",
       "      <th></th>\n",
       "      <th>Open</th>\n",
       "      <th>High</th>\n",
       "      <th>Low</th>\n",
       "      <th>Close</th>\n",
       "      <th>Adj Close</th>\n",
       "      <th>Volume</th>\n",
       "    </tr>\n",
       "  </thead>\n",
       "  <tbody>\n",
       "    <tr>\n",
       "      <th>count</th>\n",
       "      <td>8375.000000</td>\n",
       "      <td>8375.000000</td>\n",
       "      <td>8375.000000</td>\n",
       "      <td>8375.000000</td>\n",
       "      <td>8375.000000</td>\n",
       "      <td>8.375000e+03</td>\n",
       "    </tr>\n",
       "    <tr>\n",
       "      <th>mean</th>\n",
       "      <td>2.689598</td>\n",
       "      <td>2.720254</td>\n",
       "      <td>2.654557</td>\n",
       "      <td>2.687830</td>\n",
       "      <td>2.305947</td>\n",
       "      <td>3.772156e+08</td>\n",
       "    </tr>\n",
       "    <tr>\n",
       "      <th>std</th>\n",
       "      <td>5.143343</td>\n",
       "      <td>5.189875</td>\n",
       "      <td>5.087162</td>\n",
       "      <td>5.138747</td>\n",
       "      <td>4.438128</td>\n",
       "      <td>3.622719e+08</td>\n",
       "    </tr>\n",
       "    <tr>\n",
       "      <th>min</th>\n",
       "      <td>0.049665</td>\n",
       "      <td>0.049665</td>\n",
       "      <td>0.049107</td>\n",
       "      <td>0.049107</td>\n",
       "      <td>0.038329</td>\n",
       "      <td>0.000000e+00</td>\n",
       "    </tr>\n",
       "    <tr>\n",
       "      <th>25%</th>\n",
       "      <td>0.238560</td>\n",
       "      <td>0.243304</td>\n",
       "      <td>0.233259</td>\n",
       "      <td>0.238281</td>\n",
       "      <td>0.199379</td>\n",
       "      <td>1.477392e+08</td>\n",
       "    </tr>\n",
       "    <tr>\n",
       "      <th>50%</th>\n",
       "      <td>0.379464</td>\n",
       "      <td>0.386161</td>\n",
       "      <td>0.370536</td>\n",
       "      <td>0.379464</td>\n",
       "      <td>0.312520</td>\n",
       "      <td>2.665936e+08</td>\n",
       "    </tr>\n",
       "    <tr>\n",
       "      <th>75%</th>\n",
       "      <td>1.969285</td>\n",
       "      <td>2.007500</td>\n",
       "      <td>1.937857</td>\n",
       "      <td>1.963214</td>\n",
       "      <td>1.678584</td>\n",
       "      <td>4.745692e+08</td>\n",
       "    </tr>\n",
       "    <tr>\n",
       "      <th>max</th>\n",
       "      <td>25.086071</td>\n",
       "      <td>25.181070</td>\n",
       "      <td>24.984644</td>\n",
       "      <td>25.075001</td>\n",
       "      <td>21.531624</td>\n",
       "      <td>7.421641e+09</td>\n",
       "    </tr>\n",
       "  </tbody>\n",
       "</table>\n",
       "</div>"
      ],
      "text/plain": [
       "              Open         High          Low        Close    Adj Close  \\\n",
       "count  8375.000000  8375.000000  8375.000000  8375.000000  8375.000000   \n",
       "mean      2.689598     2.720254     2.654557     2.687830     2.305947   \n",
       "std       5.143343     5.189875     5.087162     5.138747     4.438128   \n",
       "min       0.049665     0.049665     0.049107     0.049107     0.038329   \n",
       "25%       0.238560     0.243304     0.233259     0.238281     0.199379   \n",
       "50%       0.379464     0.386161     0.370536     0.379464     0.312520   \n",
       "75%       1.969285     2.007500     1.937857     1.963214     1.678584   \n",
       "max      25.086071    25.181070    24.984644    25.075001    21.531624   \n",
       "\n",
       "             Volume  \n",
       "count  8.375000e+03  \n",
       "mean   3.772156e+08  \n",
       "std    3.622719e+08  \n",
       "min    0.000000e+00  \n",
       "25%    1.477392e+08  \n",
       "50%    2.665936e+08  \n",
       "75%    4.745692e+08  \n",
       "max    7.421641e+09  "
      ]
     },
     "execution_count": 10,
     "metadata": {},
     "output_type": "execute_result"
    }
   ],
   "source": [
    "train.describe()"
   ]
  },
  {
   "cell_type": "code",
   "execution_count": 11,
   "metadata": {},
   "outputs": [
    {
     "name": "stdout",
     "output_type": "stream",
     "text": [
      "<class 'pandas.core.frame.DataFrame'>\n",
      "RangeIndex: 8375 entries, 0 to 8374\n",
      "Data columns (total 7 columns):\n",
      " #   Column     Non-Null Count  Dtype  \n",
      "---  ------     --------------  -----  \n",
      " 0   Date       8375 non-null   object \n",
      " 1   Open       8375 non-null   float64\n",
      " 2   High       8375 non-null   float64\n",
      " 3   Low        8375 non-null   float64\n",
      " 4   Close      8375 non-null   float64\n",
      " 5   Adj Close  8375 non-null   float64\n",
      " 6   Volume     8375 non-null   int64  \n",
      "dtypes: float64(5), int64(1), object(1)\n",
      "memory usage: 458.1+ KB\n"
     ]
    }
   ],
   "source": [
    "train.info()"
   ]
  },
  {
   "cell_type": "code",
   "execution_count": 12,
   "metadata": {},
   "outputs": [],
   "source": [
    "stock_open = train.iloc[:,1:2].values"
   ]
  },
  {
   "cell_type": "code",
   "execution_count": 14,
   "metadata": {},
   "outputs": [
    {
     "data": {
      "text/plain": [
       "[<matplotlib.lines.Line2D at 0x283c9d150>]"
      ]
     },
     "execution_count": 14,
     "metadata": {},
     "output_type": "execute_result"
    },
    {
     "data": {
      "image/png": "[encoded data removed]",
      "text/plain": [
       "<Figure size 640x480 with 1 Axes>"
      ]
     },
     "metadata": {},
     "output_type": "display_data"
    }
   ],
   "source": [
    "plt.plot(stock_open)"
   ]
  },
  {
   "cell_type": "code",
   "execution_count": 15,
   "metadata": {},
   "outputs": [],
   "source": [
    "from sklearn.preprocessing import MinMaxScaler\n",
    "scaler = MinMaxScaler()\n",
    "scaled_stock_open = scaler.fit_transform(stock_open)"
   ]
  },
  {
   "cell_type": "code",
   "execution_count": 16,
   "metadata": {},
   "outputs": [
    {
     "data": {
      "text/plain": [
       "array([[0.00314274],\n",
       "       [0.00289758],\n",
       "       [0.00254094],\n",
       "       ...,\n",
       "       [0.7442867 ],\n",
       "       [0.75317376],\n",
       "       [0.74494286]])"
      ]
     },
     "execution_count": 16,
     "metadata": {},
     "output_type": "execute_result"
    }
   ],
   "source": [
    "scaled_stock_open"
   ]
  },
  {
   "cell_type": "code",
   "execution_count": 17,
   "metadata": {},
   "outputs": [
    {
     "name": "stdout",
     "output_type": "stream",
     "text": [
      "Mean :  [0.10544379]\n"
     ]
    }
   ],
   "source": [
    "print('Mean : ',scaled_stock_open.mean(axis=0))"
   ]
  },
  {
   "cell_type": "code",
   "execution_count": 18,
   "metadata": {},
   "outputs": [
    {
     "name": "stdout",
     "output_type": "stream",
     "text": [
      "Standard deviation :  [0.20542228]\n"
     ]
    }
   ],
   "source": [
    "print('Standard deviation : ',scaled_stock_open.std(axis=0))"
   ]
  },
  {
   "cell_type": "code",
   "execution_count": 19,
   "metadata": {},
   "outputs": [
    {
     "data": {
      "text/plain": [
       "(8375, 7)"
      ]
     },
     "execution_count": 19,
     "metadata": {},
     "output_type": "execute_result"
    }
   ],
   "source": [
    "train.shape"
   ]
  },
  {
   "cell_type": "code",
   "execution_count": 20,
   "metadata": {},
   "outputs": [
    {
     "data": {
      "text/plain": [
       "(8375, 1)"
      ]
     },
     "execution_count": 20,
     "metadata": {},
     "output_type": "execute_result"
    }
   ],
   "source": [
    "scaled_stock_open.shape"
   ]
  },
  {
   "cell_type": "code",
   "execution_count": 21,
   "metadata": {},
   "outputs": [],
   "source": [
    "X_train = []\n",
    "y_train = []\n",
    "for i in range(60,8375):\n",
    "    X_train.append(scaled_stock_open[i-60:i,0])\n",
    "    y_train.append(scaled_stock_open[i,0])\n",
    "X_train = np.array(X_train)\n",
    "y_train = np.array(y_train)"
   ]
  },
  {
   "cell_type": "markdown",
   "metadata": {},
   "source": [
    "The above code converts a 1-D array into a 3-D array with dimensions {batch_size, sequence_length} as the LSTM model expects the data to be in the shape of {batch_size, sequence_length, num_features}. num_features is set to one in the next code cells."
   ]
  },
  {
   "cell_type": "code",
   "execution_count": 22,
   "metadata": {},
   "outputs": [
    {
     "name": "stdout",
     "output_type": "stream",
     "text": [
      "(8315, 60)\n",
      "(8315,)\n"
     ]
    }
   ],
   "source": [
    "print(X_train.shape)\n",
    "print(y_train.shape)"
   ]
  },
  {
   "cell_type": "code",
   "execution_count": 23,
   "metadata": {},
   "outputs": [
    {
     "name": "stdout",
     "output_type": "stream",
     "text": [
      "(8315, 60, 1)\n"
     ]
    }
   ],
   "source": [
    "X_train = X_train.reshape((X_train.shape[0],X_train.shape[1],1))\n",
    "print(X_train.shape)"
   ]
  },
  {
   "cell_type": "markdown",
   "metadata": {},
   "source": [
    "Building the LSTM model"
   ]
  },
  {
   "cell_type": "code",
   "execution_count": 24,
   "metadata": {},
   "outputs": [],
   "source": [
    "from keras.models import Sequential \n",
    "from keras.layers import LSTM\n",
    "from keras.layers import Dense\n",
    "from keras.layers import Dropout"
   ]
  },
  {
   "cell_type": "code",
   "execution_count": 25,
   "metadata": {},
   "outputs": [],
   "source": [
    "#Defining the model \n",
    "model = Sequential()\n",
    "\n",
    "model.add(LSTM(units=50, return_sequences=True, input_shape = (X_train.shape[1],1)))\n",
    "model.add(Dropout(0.2))\n",
    "\n",
    "model.add(LSTM(units=50, return_sequences=True))\n",
    "model.add(Dropout(0.2))\n",
    "\n",
    "model.add(LSTM(units=50, return_sequences=True))\n",
    "model.add(Dropout(0.2))\n",
    "\n",
    "model.add(LSTM(units=50))\n",
    "model.add(Dropout(0.2))\n",
    "\n",
    "model.add(Dense(units=1))"
   ]
  },
  {
   "cell_type": "code",
   "execution_count": 26,
   "metadata": {},
   "outputs": [
    {
     "name": "stdout",
     "output_type": "stream",
     "text": [
      "Model: \"sequential\"\n",
      "_________________________________________________________________\n",
      " Layer (type)                Output Shape              Param #   \n",
      "=================================================================\n",
      " lstm (LSTM)                 (None, 60, 50)            10400     \n",
      "                                                                 \n",
      " dropout (Dropout)           (None, 60, 50)            0         \n",
      "                                                                 \n",
      " lstm_1 (LSTM)               (None, 60, 50)            20200     \n",
      "                                                                 \n",
      " dropout_1 (Dropout)         (None, 60, 50)            0         \n",
      "                                                                 \n",
      " lstm_2 (LSTM)               (None, 60, 50)            20200     \n",
      "                                                                 \n",
      " dropout_2 (Dropout)         (None, 60, 50)            0         \n",
      "                                                                 \n",
      " lstm_3 (LSTM)               (None, 50)                20200     \n",
      "                                                                 \n",
      " dropout_3 (Dropout)         (None, 50)                0         \n",
      "                                                                 \n",
      " dense (Dense)               (None, 1)                 51        \n",
      "                                                                 \n",
      "=================================================================\n",
      "Total params: 71051 (277.54 KB)\n",
      "Trainable params: 71051 (277.54 KB)\n",
      "Non-trainable params: 0 (0.00 Byte)\n",
      "_________________________________________________________________\n"
     ]
    }
   ],
   "source": [
    "model.summary()"
   ]
  },
  {
   "cell_type": "code",
   "execution_count": 33,
   "metadata": {},
   "outputs": [
    {
     "name": "stdout",
     "output_type": "stream",
     "text": [
      "Epoch 1/10\n",
      "260/260 [==============================] - 17s 53ms/step - loss: 4.4575e-04\n",
      "Epoch 2/10\n",
      "260/260 [==============================] - 14s 55ms/step - loss: 3.8958e-04\n",
      "Epoch 3/10\n",
      "260/260 [==============================] - 14s 55ms/step - loss: 3.4500e-04\n",
      "Epoch 4/10\n",
      "260/260 [==============================] - 14s 56ms/step - loss: 3.8572e-04\n",
      "Epoch 5/10\n",
      "260/260 [==============================] - 14s 56ms/step - loss: 3.7120e-04\n",
      "Epoch 6/10\n",
      "260/260 [==============================] - 14s 55ms/step - loss: 3.6415e-04\n",
      "Epoch 7/10\n",
      "260/260 [==============================] - 14s 55ms/step - loss: 3.5161e-04\n",
      "Epoch 8/10\n",
      "260/260 [==============================] - 14s 55ms/step - loss: 4.1249e-04\n",
      "Epoch 9/10\n",
      "260/260 [==============================] - 14s 55ms/step - loss: 3.6316e-04\n",
      "Epoch 10/10\n",
      "260/260 [==============================] - 14s 55ms/step - loss: 3.4772e-04\n"
     ]
    },
    {
     "data": {
      "text/plain": [
       "<keras.src.callbacks.History at 0x29e4d5250>"
      ]
     },
     "execution_count": 33,
     "metadata": {},
     "output_type": "execute_result"
    }
   ],
   "source": [
    "model.compile(optimizer=tf.keras.optimizers.legacy.Adam(),loss='mean_squared_error')\n",
    "model.fit(X_train, y_train, epochs=10, batch_size=32)"
   ]
  },
  {
   "cell_type": "code",
   "execution_count": 35,
   "metadata": {},
   "outputs": [
    {
     "name": "stdout",
     "output_type": "stream",
     "text": [
      "260/260 [==============================] - 4s 13ms/step\n"
     ]
    }
   ],
   "source": [
    "train_predict = model.predict(X_train)"
   ]
  },
  {
   "cell_type": "code",
   "execution_count": 38,
   "metadata": {},
   "outputs": [],
   "source": [
    "train_predict = scaler.inverse_transform(train_predict)"
   ]
  },
  {
   "cell_type": "code",
   "execution_count": 39,
   "metadata": {},
   "outputs": [
    {
     "data": {
      "image/png": "[encoded data removed]",
      "text/plain": [
       "<Figure size 640x480 with 1 Axes>"
      ]
     },
     "metadata": {},
     "output_type": "display_data"
    }
   ],
   "source": [
    "plt.plot(stock_open,color='blue')\n",
    "plt.plot(train_predict,color='red')\n",
    "plt.show()"
   ]
  },
  {
   "cell_type": "code",
   "execution_count": 34,
   "metadata": {},
   "outputs": [],
   "source": [
    "#Saving the model \n",
    "import pickle as pk\n",
    "with open('Models/LSTM_model.pkl','wb') as file:\n",
    "    pk.dump(model,file)"
   ]
  },
  {
   "cell_type": "markdown",
   "metadata": {},
   "source": [
    "Predicting on test data"
   ]
  },
  {
   "cell_type": "code",
   "execution_count": 70,
   "metadata": {},
   "outputs": [],
   "source": [
    "test = pd.read_csv('Data/test.csv')\n",
    "train = pd.read_csv('Data/train.csv')\n",
    "test = pd.DataFrame(test.iloc[:,2:3].values)\n",
    "train = pd.DataFrame(train.iloc[:,2:3].values)\n"
   ]
  },
  {
   "cell_type": "code",
   "execution_count": 71,
   "metadata": {},
   "outputs": [],
   "source": [
    "dataset_total = pd.concat((train,test),axis=0)"
   ]
  },
  {
   "cell_type": "code",
   "execution_count": 72,
   "metadata": {},
   "outputs": [
    {
     "data": {
      "text/plain": [
       "(10468, 1)"
      ]
     },
     "execution_count": 72,
     "metadata": {},
     "output_type": "execute_result"
    }
   ],
   "source": [
    "dataset_total.shape"
   ]
  },
  {
   "cell_type": "code",
   "execution_count": 83,
   "metadata": {},
   "outputs": [
    {
     "data": {
      "text/plain": [
       "(2093, 1)"
      ]
     },
     "execution_count": 83,
     "metadata": {},
     "output_type": "execute_result"
    }
   ],
   "source": [
    "test.shape"
   ]
  },
  {
   "cell_type": "code",
   "execution_count": 77,
   "metadata": {},
   "outputs": [],
   "source": [
    "inputs = dataset_total[len(dataset_total) - len(test) - 60:].values"
   ]
  },
  {
   "cell_type": "code",
   "execution_count": 81,
   "metadata": {},
   "outputs": [],
   "source": [
    "inputs = scaler.fit_transform(inputs)"
   ]
  },
  {
   "cell_type": "code",
   "execution_count": 82,
   "metadata": {},
   "outputs": [
    {
     "data": {
      "text/plain": [
       "(2153, 1)"
      ]
     },
     "execution_count": 82,
     "metadata": {},
     "output_type": "execute_result"
    }
   ],
   "source": [
    "inputs.shape"
   ]
  },
  {
   "cell_type": "code",
   "execution_count": 84,
   "metadata": {},
   "outputs": [],
   "source": [
    "X_test = []\n",
    "for i in range(60,len(inputs)):\n",
    "    X_test.append(inputs[i-60:i,0])"
   ]
  },
  {
   "cell_type": "code",
   "execution_count": 90,
   "metadata": {},
   "outputs": [],
   "source": [
    "X_test = np.array(X_test)\n",
    "X_test = X_test.reshape((X_test.shape[0],X_test.shape[1],1))"
   ]
  },
  {
   "cell_type": "code",
   "execution_count": 92,
   "metadata": {},
   "outputs": [
    {
     "name": "stdout",
     "output_type": "stream",
     "text": [
      "66/66 [==============================] - 1s 13ms/step\n"
     ]
    }
   ],
   "source": [
    "predicted_stock_price = model.predict(X_test)"
   ]
  },
  {
   "cell_type": "code",
   "execution_count": 94,
   "metadata": {},
   "outputs": [],
   "source": [
    "predicted_stock_price = scaler.inverse_transform(predicted_stock_price)"
   ]
  },
  {
   "cell_type": "code",
   "execution_count": 99,
   "metadata": {},
   "outputs": [
    {
     "data": {
      "text/plain": [
       "<matplotlib.legend.Legend at 0x2ce4ff4d0>"
      ]
     },
     "execution_count": 99,
     "metadata": {},
     "output_type": "execute_result"
    },
    {
     "data": {
      "image/png": "[encoded data removed]",
      "text/plain": [
       "<Figure size 640x480 with 1 Axes>"
      ]
     },
     "metadata": {},
     "output_type": "display_data"
    }
   ],
   "source": [
    "plt.plot(test, color = 'red', label = 'Actual Google Stock Price')\n",
    "plt.plot (predicted_stock_price, color = 'blue', label = 'Predicted Google Stock Price') \n",
    "plt.title('Apple Stock Price Prediction')\n",
    "plt.xlabel('Time')\n",
    "plt.ylabel ('Google Stock Price')\n",
    "plt.legend ()"
   ]
  },
  {
   "cell_type": "code",
   "execution_count": 111,
   "metadata": {},
   "outputs": [],
   "source": [
    "rmse = np.mean((test-predicted_stock_price)**2)"
   ]
  },
  {
   "cell_type": "code",
   "execution_count": 113,
   "metadata": {},
   "outputs": [
    {
     "name": "stdout",
     "output_type": "stream",
     "text": [
      "The test RMS error of the model was 11.850909423375434\n"
     ]
    }
   ],
   "source": [
    "print(f'The test RMS error of the model was {rmse}')"
   ]
  },
  {
   "cell_type": "code",
   "execution_count": null,
   "metadata": {},
   "outputs": [],
   "source": []
  }
 ],
 "metadata": {
  "kernelspec": {
   "display_name": "py39-TF2.0",
   "language": "python",
   "name": "python3"
  },
  "language_info": {
   "codemirror_mode": {
    "name": "ipython",
    "version": 3
   },
   "file_extension": ".py",
   "mimetype": "text/x-python",
   "name": "python",
   "nbconvert_exporter": "python",
   "pygments_lexer": "ipython3",
   "version": "3.11.1"
  },
  "orig_nbformat": 4
 },
 "nbformat": 4,
 "nbformat_minor": 2
}
